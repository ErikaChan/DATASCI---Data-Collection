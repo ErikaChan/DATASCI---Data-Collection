{
 "cells": [
  {
   "cell_type": "markdown",
   "metadata": {},
   "source": [
    "# Getting Details from News Sites using News API\n",
    "\n",
    "News API - https://newsapi.org/ - is an API that provides convenient retrieval of articles and headlines from news sites and blogs on the Internet. \n",
    "\n",
    "To make use of this API, one is required to sign up for an account and generate their API key. \n",
    "\n",
    "There seems to be limitations for the free version of the account:\n",
    "   1. The full article (or content in this case) is limited to a set amount of characters (260 characters), which means that in order to get the entire article, one needs to upgrade their free account. -> https://newsapi.org/docs/endpoints/top-headlines\n",
    "   2. There also seems to be an existing issue in the API where, despite the totalResults showing a value higher than 20, 20 articles will only be retrieved. -> https://github.com/News-API-gh/News-API-python/issues/6"
   ]
  },
  {
   "cell_type": "markdown",
   "metadata": {},
   "source": [
    "### Initialising News API"
   ]
  },
  {
   "cell_type": "code",
   "execution_count": 54,
   "metadata": {},
   "outputs": [],
   "source": [
    "from newsapi import NewsApiClient\n",
    "\n",
    "# Init by inserting the generated API key from account\n",
    "newsapi = NewsApiClient(api_key='API Key Here')"
   ]
  },
  {
   "cell_type": "markdown",
   "metadata": {},
   "source": [
    "### Getting Articles from BBC News between March 11, 2021 and March 12, 2021"
   ]
  },
  {
   "cell_type": "code",
   "execution_count": 55,
   "metadata": {},
   "outputs": [],
   "source": [
    "all_articles = newsapi.get_everything(q=' ',\n",
    "                                      sources='bbc-news',\n",
    "                                      domains='bbc.co.uk',\n",
    "                                      from_param='2021-03-11',\n",
    "                                          to='2021-03-12', page = 5)"
   ]
  },
  {
   "cell_type": "code",
   "execution_count": 56,
   "metadata": {},
   "outputs": [
    {
     "name": "stdout",
     "output_type": "stream",
     "text": [
      "{'status': 'ok', 'totalResults': 450, 'articles': [{'source': {'id': 'bbc-news', 'name': 'BBC News'}, 'author': None, 'title': 'Mozambique: Can the government defeat radical Islamist insurgency ?', 'description': \"A report from an area of northern Mozambique that's under siege by Islamists. More than half a million people have fled their homes to escape the insurgents' brutal attacks. Also, gunmen abduct dozens of students near army base in Nigeria, and how the disappe…\", 'url': 'https://www.bbc.co.uk/programmes/p099jhc4', 'urlToImage': 'https://ichef.bbci.co.uk/images/ic/1200x675/p085qrzc.jpg', 'publishedAt': '2021-03-12T16:02:00Z', 'content': \"A report from an area of northern Mozambique that's under siege by Islamists. More than half a million people have fled their homes to escape the insurgents' brutal attacks. Also, gunmen abduct dozen… [+168 chars]\"}, {'source': {'id': 'bbc-news', 'name': 'BBC News'}, 'author': 'https://www.facebook.com/bbcnews', 'title': 'Hit-and-run attack treated as attempted murder', 'description': 'A man is in hospital with serious injuries after being deliberately struck by a car in Glasgow.', 'url': 'https://www.bbc.co.uk/news/uk-scotland-glasgow-west-56373258', 'urlToImage': 'https://ichef.bbci.co.uk/news/1024/branded_news/9803/production/_117551983_mediaitem117544862.jpg', 'publishedAt': '2021-03-12T16:01:59Z', 'content': 'image captionThe incident happened at the junction of Hollybank Street and Kintyre Street\\r\\nA man is in hospital with serious injuries after being deliberately struck by a car in Glasgow.\\r\\nThe 29-year… [+326 chars]'}, {'source': {'id': 'bbc-news', 'name': 'BBC News'}, 'author': 'https://www.facebook.com/bbcnews', 'title': 'Edinburgh council leader apologises for school racism', 'description': 'It follows an investigation that found numerous incidents of racist abuse from both students and teachers at Edinburgh schools.', 'url': 'https://www.bbc.co.uk/news/uk-scotland-edinburgh-east-fife-56375511', 'urlToImage': 'https://ichef.bbci.co.uk/news/1024/branded_news/5D56/production/_117549832_mediaitem117549830.jpg', 'publishedAt': '2021-03-12T15:42:52Z', 'content': \"image copyrightCity of Edinburgh Council\\r\\nimage captionAdam McVey has apologised to those who have experienced racism in the city's schools\\r\\nCity of Edinburgh Council leader Adam McVey has apologised… [+1907 chars]\"}, {'source': {'id': 'bbc-news', 'name': 'BBC News'}, 'author': None, 'title': 'Six Nations 2021: England v France team news, preview & key stats', 'description': 'Team news, preview and statistics as England seek to return to winning ways against Grand Slam-chasing France at Twickenham on Saturday.', 'url': 'https://www.bbc.co.uk/sport/rugby-union/56353623', 'urlToImage': 'https://ichef.bbci.co.uk/live-experience/cps/624/cpsprodpb/177CD/production/_117550269_dupont_maro_getty.jpg', 'publishedAt': '2021-03-12T15:24:47Z', 'content': 'England captain Owen Farrell continues in midfield with George Ford at fly-half\\r\\n<table><tr><th>Guinness Six Nations: England v France</th></tr>\\r\\n<tr><td>Venue: Twickenham Date: Saturday, 13 March Ki… [+6205 chars]'}, {'source': {'id': 'bbc-news', 'name': 'BBC News'}, 'author': None, 'title': \"Scottish Premiership: What's at play this weekend?\", 'description': \"It may be short on teams, but this weekend's Scottish Premiership card is not without potential drama.\", 'url': 'https://www.bbc.co.uk/sport/football/56368550', 'urlToImage': 'https://ichef.bbci.co.uk/live-experience/cps/624/cpsprodpb/14F5E/production/_117545858_fivethings.jpg', 'publishedAt': '2021-03-12T15:22:47Z', 'content': \"It may be short on teams, but this weekend's Scottish Premiership card is not without potential drama.\\r\\nA week on from Rangers clinching the top-flight title, there are key battles that could go a lo… [+4190 chars]\"}, {'source': {'id': 'bbc-news', 'name': 'BBC News'}, 'author': None, 'title': 'Premiership: London Irish v Worcester', 'description': \"Team news as London Irish host Worcester Warriors in Sunday's Premiership fixture at Brentford Community Stadium (13:00 GMT).\", 'url': 'https://www.bbc.co.uk/sport/rugby-union/56342207', 'urlToImage': 'https://ichef.bbci.co.uk/live-experience/cps/624/cpsprodpb/D07E/production/_117547335_gussyc.jpg', 'publishedAt': '2021-03-12T15:19:36Z', 'content': \"Worcester will be making their first visit to the Brentford Community Stadium - London Irish's new home since November\\r\\n<table><tr><th>Gallagher Premiership</th></tr>\\r\\n<tr><td>Venue: Brentford Commun… [+1673 chars]\"}, {'source': {'id': 'bbc-news', 'name': 'BBC News'}, 'author': 'https://www.facebook.com/bbcnews', 'title': \"Myanmar coup: The 'battle tactics' used in crackdowns on protests\", 'description': 'Human rights group Amnesty says videos show the military are using increasingly deadly force.', 'url': 'https://www.bbc.co.uk/news/world-asia-56373463', 'urlToImage': 'https://www.bbc.co.uk/news/special/2015/newsspec_10857/bbc_news_logo.png?cb=1', 'publishedAt': '2021-03-12T15:12:01Z', 'content': \"By Joshua CheethamBBC News\\r\\nimage copyrightGetty Images\\r\\nimage captionHuman rights groups are calling on Myanmar's military to end it's use of lethal force against civilians\\r\\nOn a busy street in Yang… [+4160 chars]\"}, {'source': {'id': 'bbc-news', 'name': 'BBC News'}, 'author': 'https://www.facebook.com/bbcnews', 'title': \"Rosamund Pike: I Care A Lot actress buries awards 'in back garden'\", 'description': 'The actress told The Ellen DeGeneres Show the unusual ritual was likely linked to imposter syndrome.', 'url': 'https://www.bbc.co.uk/news/entertainment-arts-56375377', 'urlToImage': 'https://ichef.bbci.co.uk/news/1024/branded_news/2322/production/_117549980_gettyimages-461349952.jpg', 'publishedAt': '2021-03-12T15:11:38Z', 'content': \"image copyrightGetty Images\\r\\nimage captionBritish actress Rosamund Pike won best actress in a musical or comedy at this year's Golden Globes\\r\\nActress Rosamund Pike has revealed that she buries her ac… [+2256 chars]\"}, {'source': {'id': 'bbc-news', 'name': 'BBC News'}, 'author': None, 'title': 'Mozambique: Thousands trapped by Islamist militants', 'description': 'The president of Mozambique has sacked the head of the army and the air force chief at a time of increased insecurity in the north-east, where an Islamist insurgency has driven more than half a million people from their homes in the past year. Aid agencies ar…', 'url': 'https://www.bbc.co.uk/programmes/w172x2z7gy3mltt', 'urlToImage': 'https://ichef.bbci.co.uk/images/ic/1200x675/p099j09p.jpg', 'publishedAt': '2021-03-12T15:11:00Z', 'content': 'The president of Mozambique has sacked the head of the army and the air force chief at a time of increased insecurity in the north-east, where an Islamist insurgency has driven more than half a milli… [+532 chars]'}, {'source': {'id': 'bbc-news', 'name': 'BBC News'}, 'author': None, 'title': '2021/03/12 15:00 GMT', 'description': 'The latest five minute news bulletin from BBC World Service.', 'url': 'https://www.bbc.co.uk/programmes/w172x5pc0dlyjyc', 'urlToImage': 'https://ichef.bbci.co.uk/images/ic/1200x675/p060dh18.jpg', 'publishedAt': '2021-03-12T15:06:00Z', 'content': 'The latest five minute news bulletin from BBC World Service.'}, {'source': {'id': 'bbc-news', 'name': 'BBC News'}, 'author': None, 'title': \"France v Scotland: Gregor Townsend hopes match is rescheduled 'soon'\", 'description': 'Scotland head coach Gregor Townsend says \"there\\'s a few things to be sorted\" before his side\\'s Six Nations meeting with France can be rearranged.', 'url': 'https://www.bbc.co.uk/sport/rugby-union/56378122', 'urlToImage': 'https://ichef.bbci.co.uk/live-experience/cps/624/cpsprodpb/2F49/production/_117550121_20011813.jpg', 'publishedAt': '2021-03-12T15:05:24Z', 'content': 'Scotland could face France on 26 March\\r\\n<table><tr><th>Six Nations 2021: Scotland v Ireland</th></tr>\\r\\n<tr><td>Venue: Murrayfield Stadium, Edinburgh Date: Sunday, 14 March Kick-off: 15:00 GMT</td></t… [+1761 chars]'}, {'source': {'id': 'bbc-news', 'name': 'BBC News'}, 'author': None, 'title': 'Italy v Wales: Gareth Davies and Stephen Varney aim for relative Six Nations dominance', 'description': 'They will be international rivals on Saturday but opposing scrum-halves Gareth Davies and Stephen Varney also turn out to have some sort of family connection.', 'url': 'https://www.bbc.co.uk/sport/rugby-union/56347941', 'urlToImage': 'https://ichef.bbci.co.uk/live-experience/cps/624/cpsprodpb/4335/production/_117550271_varney-4.jpg', 'publishedAt': '2021-03-12T15:00:23Z', 'content': 'Stephen Varney under pressure from Gareth Davies during Wales v Italy in December 2020\\r\\n<table><tr><th>Six Nations 2021: Italy v Wales</th></tr>\\r\\n<tr><td>Venue: Stadio Olimpico, Rome Date: Saturday, … [+4554 chars]'}, {'source': {'id': 'bbc-news', 'name': 'BBC News'}, 'author': None, 'title': 'Tariq Lamptey: Brighton defender out for the season', 'description': 'Brighton right-back Tariq Lamptey will miss the remainder of the season because he requires an operation on his hamstring injury.', 'url': 'https://www.bbc.co.uk/sport/football/56375239', 'urlToImage': 'https://ichef.bbci.co.uk/live-experience/cps/624/cpsprodpb/15699/production/_117550778_lamptey_getty.jpg', 'publishedAt': '2021-03-12T15:00:18Z', 'content': 'Tariq Lamptey has not played for Brighton since being taken off in the goalless draw at Fulham in December\\r\\nBrighton right-back Tariq Lamptey will miss the remainder of the season because he requires… [+704 chars]'}, {'source': {'id': 'bbc-news', 'name': 'BBC News'}, 'author': None, 'title': 'Manchester United v West Ham United', 'description': \"Preview followed by live coverage of Sunday's Premier League game between Manchester United and West Ham United.\", 'url': 'https://www.bbc.co.uk/sport/football/56247548', 'urlToImage': 'https://ichef.bbci.co.uk/live-experience/cps/624/cpsprodpb/23BF/production/_117515190_moyes.jpg', 'publishedAt': '2021-03-12T14:59:04Z', 'content': 'Jesse Lingard has scored four goals in six appearances since he joined West Ham on loan from Manchester United in January\\r\\nTEAM NEWS\\r\\nManchester United may have a shortage of forwards as Anthony Mart… [+3265 chars]'}, {'source': {'id': 'bbc-news', 'name': 'BBC News'}, 'author': 'https://www.facebook.com/bbcnews', 'title': 'Ant Group boss Simon Hu steps down in restructuring', 'description': \"Simon Hu is being replaced as the payments giant undergoes changes to meet regulators' demands.\", 'url': 'https://www.bbc.co.uk/news/business-56377162', 'urlToImage': 'https://ichef.bbci.co.uk/news/1024/branded_news/219D/production/_117550680_gettyimages-1231430059.jpg', 'publishedAt': '2021-03-12T14:53:49Z', 'content': 'image copyrightGetty Images\\r\\nimage captionAnt Group is controlled by Alibaba founder Jack Ma\\r\\nThe chief executive of China\\'s Ant Group has stepped down \"for personal reasons\" as the online payment gi… [+1492 chars]'}, {'source': {'id': 'bbc-news', 'name': 'BBC News'}, 'author': 'https://www.facebook.com/bbcnews', 'title': \"UK borders: Cost of IT failures 'staggering', says spending watchdog\", 'description': 'Spending watchdog warns over delays to new systems for checking people entering and leaving the UK.', 'url': 'https://www.bbc.co.uk/news/uk-politics-56373513', 'urlToImage': 'https://ichef.bbci.co.uk/news/1024/branded_news/1F8A/production/_117547080_pressassociation.jpg', 'publishedAt': '2021-03-12T14:51:46Z', 'content': 'image copyrightPress Association\\r\\nTaxpayers are still being hit with the \"staggering\" cost of failed UK border IT projects, a spending watchdog has warned.\\r\\nThe Public Accounts Committee said the Hom… [+2309 chars]'}, {'source': {'id': 'bbc-news', 'name': 'BBC News'}, 'author': 'https://www.facebook.com/bbcnews', 'title': \"University of Manchester advises against using 'mother' and 'father'\", 'description': 'An MP says the University of Manchester\\'s guidance on inclusive language is \"wokery gone mad\".', 'url': 'https://www.bbc.co.uk/news/uk-england-manchester-56372118', 'urlToImage': 'https://ichef.bbci.co.uk/news/1024/branded_news/316E/production/_117545621_uni.jpg', 'publishedAt': '2021-03-12T14:49:19Z', 'content': 'image captionThe University of Manchester has denied banning or scrapping certain words\\r\\nA university has advised staff against using the terms \"mother\" and \"father\" to avoid bias and assumption. \\r\\nT… [+2640 chars]'}, {'source': {'id': 'bbc-news', 'name': 'BBC News'}, 'author': 'https://www.facebook.com/bbcnews', 'title': 'YouTube deletes 30,000 vaccine misinfo videos', 'description': 'The platform says it has taken down 30,000 videos since its ban on false vaccine claims in October.', 'url': 'https://www.bbc.co.uk/news/technology-56372184', 'urlToImage': 'https://ichef.bbci.co.uk/news/1024/branded_news/7B06/production/_117549413_gettyimages-1231664238.jpg', 'publishedAt': '2021-03-12T14:37:47Z', 'content': 'image copyrightGetty Images\\r\\nYouTube has removed more than 30,000 misleading Covid-19 vaccination videos in the past five months, it said.\\r\\nA YouTube spokeswoman said the videos contradicted vaccine … [+1991 chars]'}, {'source': {'id': 'bbc-news', 'name': 'BBC News'}, 'author': 'https://www.facebook.com/bbcnews', 'title': 'Sahayb Abu convicted of planning IS-inspired sword attack', 'description': 'Sahayb Abu, who was freed from prison last March, is one of several extremists from the same family.', 'url': 'https://www.bbc.co.uk/news/uk-england-london-56287395', 'urlToImage': 'https://ichef.bbci.co.uk/news/1024/branded_news/1207A/production/_117505837_abuandkit.jpg', 'publishedAt': '2021-03-12T14:37:33Z', 'content': 'By Daniel De SimoneBBC News\\r\\nimage copyrightMetropolitan Police\\r\\nimage captionSahayb Abu and the kit he planned to wear in the attack\\r\\nA former prisoner has been convicted of planning an Islamic Stat… [+5096 chars]'}, {'source': {'id': 'bbc-news', 'name': 'BBC News'}, 'author': 'https://www.facebook.com/bbcnews', 'title': \"Gavin Williamson on coping with 'lonely' leadership\", 'description': 'Under-fire Education Secretary Gavin Williamson tells heads how he has dealt with personal pressure.', 'url': 'https://www.bbc.co.uk/news/education-56375664', 'urlToImage': 'https://ichef.bbci.co.uk/news/1024/branded_news/10FDA/production/_117549596_williamsonascl2.jpg', 'publishedAt': '2021-03-12T14:35:08Z', 'content': 'By Sean CoughlanFamily and education correspondent\\r\\nimage captionGavin Williamson was asked by head teachers about his own \"wellbeing\"\\r\\nEducation Secretary Gavin Williamson has talked to head teacher… [+2861 chars]'}]}\n"
     ]
    }
   ],
   "source": [
    "print(all_articles)"
   ]
  },
  {
   "cell_type": "markdown",
   "metadata": {},
   "source": [
    "### Checking and storing total number of articles retrieved"
   ]
  },
  {
   "cell_type": "code",
   "execution_count": 57,
   "metadata": {},
   "outputs": [
    {
     "name": "stdout",
     "output_type": "stream",
     "text": [
      "20\n"
     ]
    }
   ],
   "source": [
    "totalno = len(all_articles['articles'])\n",
    "\n",
    "print(totalno)"
   ]
  },
  {
   "cell_type": "code",
   "execution_count": 58,
   "metadata": {},
   "outputs": [
    {
     "name": "stdout",
     "output_type": "stream",
     "text": [
      "{'source': {'id': 'bbc-news', 'name': 'BBC News'}, 'author': None, 'title': 'Mozambique: Can the government defeat radical Islamist insurgency ?', 'description': \"A report from an area of northern Mozambique that's under siege by Islamists. More than half a million people have fled their homes to escape the insurgents' brutal attacks. Also, gunmen abduct dozens of students near army base in Nigeria, and how the disappe…\", 'url': 'https://www.bbc.co.uk/programmes/p099jhc4', 'urlToImage': 'https://ichef.bbci.co.uk/images/ic/1200x675/p085qrzc.jpg', 'publishedAt': '2021-03-12T16:02:00Z', 'content': \"A report from an area of northern Mozambique that's under siege by Islamists. More than half a million people have fled their homes to escape the insurgents' brutal attacks. Also, gunmen abduct dozen… [+168 chars]\"}\n"
     ]
    }
   ],
   "source": [
    "articles_details = all_articles['articles']\n",
    "\n",
    "print(articles_details[0])"
   ]
  },
  {
   "cell_type": "markdown",
   "metadata": {},
   "source": [
    "## Save to JSON file"
   ]
  },
  {
   "cell_type": "code",
   "execution_count": 59,
   "metadata": {},
   "outputs": [
    {
     "data": {
      "text/plain": [
       "[{'date': '2021-03-12T16:02:00Z',\n",
       "  'title': 'Mozambique: Can the government defeat radical Islamist insurgency ?',\n",
       "  'full article': \"A report from an area of northern Mozambique that's under siege by Islamists. More than half a million people have fled their homes to escape the insurgents' brutal attacks. Also, gunmen abduct dozen… [+168 chars]\",\n",
       "  'author': None},\n",
       " {'date': '2021-03-12T16:01:59Z',\n",
       "  'title': 'Hit-and-run attack treated as attempted murder',\n",
       "  'full article': 'image captionThe incident happened at the junction of Hollybank Street and Kintyre Street\\r\\nA man is in hospital with serious injuries after being deliberately struck by a car in Glasgow.\\r\\nThe 29-year… [+326 chars]',\n",
       "  'author': 'https://www.facebook.com/bbcnews'},\n",
       " {'date': '2021-03-12T15:42:52Z',\n",
       "  'title': 'Edinburgh council leader apologises for school racism',\n",
       "  'full article': \"image copyrightCity of Edinburgh Council\\r\\nimage captionAdam McVey has apologised to those who have experienced racism in the city's schools\\r\\nCity of Edinburgh Council leader Adam McVey has apologised… [+1907 chars]\",\n",
       "  'author': 'https://www.facebook.com/bbcnews'},\n",
       " {'date': '2021-03-12T15:24:47Z',\n",
       "  'title': 'Six Nations 2021: England v France team news, preview & key stats',\n",
       "  'full article': 'England captain Owen Farrell continues in midfield with George Ford at fly-half\\r\\n<table><tr><th>Guinness Six Nations: England v France</th></tr>\\r\\n<tr><td>Venue: Twickenham Date: Saturday, 13 March Ki… [+6205 chars]',\n",
       "  'author': None},\n",
       " {'date': '2021-03-12T15:22:47Z',\n",
       "  'title': \"Scottish Premiership: What's at play this weekend?\",\n",
       "  'full article': \"It may be short on teams, but this weekend's Scottish Premiership card is not without potential drama.\\r\\nA week on from Rangers clinching the top-flight title, there are key battles that could go a lo… [+4190 chars]\",\n",
       "  'author': None},\n",
       " {'date': '2021-03-12T15:19:36Z',\n",
       "  'title': 'Premiership: London Irish v Worcester',\n",
       "  'full article': \"Worcester will be making their first visit to the Brentford Community Stadium - London Irish's new home since November\\r\\n<table><tr><th>Gallagher Premiership</th></tr>\\r\\n<tr><td>Venue: Brentford Commun… [+1673 chars]\",\n",
       "  'author': None},\n",
       " {'date': '2021-03-12T15:12:01Z',\n",
       "  'title': \"Myanmar coup: The 'battle tactics' used in crackdowns on protests\",\n",
       "  'full article': \"By Joshua CheethamBBC News\\r\\nimage copyrightGetty Images\\r\\nimage captionHuman rights groups are calling on Myanmar's military to end it's use of lethal force against civilians\\r\\nOn a busy street in Yang… [+4160 chars]\",\n",
       "  'author': 'https://www.facebook.com/bbcnews'},\n",
       " {'date': '2021-03-12T15:11:38Z',\n",
       "  'title': \"Rosamund Pike: I Care A Lot actress buries awards 'in back garden'\",\n",
       "  'full article': \"image copyrightGetty Images\\r\\nimage captionBritish actress Rosamund Pike won best actress in a musical or comedy at this year's Golden Globes\\r\\nActress Rosamund Pike has revealed that she buries her ac… [+2256 chars]\",\n",
       "  'author': 'https://www.facebook.com/bbcnews'},\n",
       " {'date': '2021-03-12T15:11:00Z',\n",
       "  'title': 'Mozambique: Thousands trapped by Islamist militants',\n",
       "  'full article': 'The president of Mozambique has sacked the head of the army and the air force chief at a time of increased insecurity in the north-east, where an Islamist insurgency has driven more than half a milli… [+532 chars]',\n",
       "  'author': None},\n",
       " {'date': '2021-03-12T15:06:00Z',\n",
       "  'title': '2021/03/12 15:00 GMT',\n",
       "  'full article': 'The latest five minute news bulletin from BBC World Service.',\n",
       "  'author': None},\n",
       " {'date': '2021-03-12T15:05:24Z',\n",
       "  'title': \"France v Scotland: Gregor Townsend hopes match is rescheduled 'soon'\",\n",
       "  'full article': 'Scotland could face France on 26 March\\r\\n<table><tr><th>Six Nations 2021: Scotland v Ireland</th></tr>\\r\\n<tr><td>Venue: Murrayfield Stadium, Edinburgh Date: Sunday, 14 March Kick-off: 15:00 GMT</td></t… [+1761 chars]',\n",
       "  'author': None},\n",
       " {'date': '2021-03-12T15:00:23Z',\n",
       "  'title': 'Italy v Wales: Gareth Davies and Stephen Varney aim for relative Six Nations dominance',\n",
       "  'full article': 'Stephen Varney under pressure from Gareth Davies during Wales v Italy in December 2020\\r\\n<table><tr><th>Six Nations 2021: Italy v Wales</th></tr>\\r\\n<tr><td>Venue: Stadio Olimpico, Rome Date: Saturday, … [+4554 chars]',\n",
       "  'author': None},\n",
       " {'date': '2021-03-12T15:00:18Z',\n",
       "  'title': 'Tariq Lamptey: Brighton defender out for the season',\n",
       "  'full article': 'Tariq Lamptey has not played for Brighton since being taken off in the goalless draw at Fulham in December\\r\\nBrighton right-back Tariq Lamptey will miss the remainder of the season because he requires… [+704 chars]',\n",
       "  'author': None},\n",
       " {'date': '2021-03-12T14:59:04Z',\n",
       "  'title': 'Manchester United v West Ham United',\n",
       "  'full article': 'Jesse Lingard has scored four goals in six appearances since he joined West Ham on loan from Manchester United in January\\r\\nTEAM NEWS\\r\\nManchester United may have a shortage of forwards as Anthony Mart… [+3265 chars]',\n",
       "  'author': None},\n",
       " {'date': '2021-03-12T14:53:49Z',\n",
       "  'title': 'Ant Group boss Simon Hu steps down in restructuring',\n",
       "  'full article': 'image copyrightGetty Images\\r\\nimage captionAnt Group is controlled by Alibaba founder Jack Ma\\r\\nThe chief executive of China\\'s Ant Group has stepped down \"for personal reasons\" as the online payment gi… [+1492 chars]',\n",
       "  'author': 'https://www.facebook.com/bbcnews'},\n",
       " {'date': '2021-03-12T14:51:46Z',\n",
       "  'title': \"UK borders: Cost of IT failures 'staggering', says spending watchdog\",\n",
       "  'full article': 'image copyrightPress Association\\r\\nTaxpayers are still being hit with the \"staggering\" cost of failed UK border IT projects, a spending watchdog has warned.\\r\\nThe Public Accounts Committee said the Hom… [+2309 chars]',\n",
       "  'author': 'https://www.facebook.com/bbcnews'},\n",
       " {'date': '2021-03-12T14:49:19Z',\n",
       "  'title': \"University of Manchester advises against using 'mother' and 'father'\",\n",
       "  'full article': 'image captionThe University of Manchester has denied banning or scrapping certain words\\r\\nA university has advised staff against using the terms \"mother\" and \"father\" to avoid bias and assumption. \\r\\nT… [+2640 chars]',\n",
       "  'author': 'https://www.facebook.com/bbcnews'},\n",
       " {'date': '2021-03-12T14:37:47Z',\n",
       "  'title': 'YouTube deletes 30,000 vaccine misinfo videos',\n",
       "  'full article': 'image copyrightGetty Images\\r\\nYouTube has removed more than 30,000 misleading Covid-19 vaccination videos in the past five months, it said.\\r\\nA YouTube spokeswoman said the videos contradicted vaccine … [+1991 chars]',\n",
       "  'author': 'https://www.facebook.com/bbcnews'},\n",
       " {'date': '2021-03-12T14:37:33Z',\n",
       "  'title': 'Sahayb Abu convicted of planning IS-inspired sword attack',\n",
       "  'full article': 'By Daniel De SimoneBBC News\\r\\nimage copyrightMetropolitan Police\\r\\nimage captionSahayb Abu and the kit he planned to wear in the attack\\r\\nA former prisoner has been convicted of planning an Islamic Stat… [+5096 chars]',\n",
       "  'author': 'https://www.facebook.com/bbcnews'},\n",
       " {'date': '2021-03-12T14:35:08Z',\n",
       "  'title': \"Gavin Williamson on coping with 'lonely' leadership\",\n",
       "  'full article': 'By Sean CoughlanFamily and education correspondent\\r\\nimage captionGavin Williamson was asked by head teachers about his own \"wellbeing\"\\r\\nEducation Secretary Gavin Williamson has talked to head teacher… [+2861 chars]',\n",
       "  'author': 'https://www.facebook.com/bbcnews'}]"
      ]
     },
     "execution_count": 59,
     "metadata": {},
     "output_type": "execute_result"
    }
   ],
   "source": [
    "newsJSON = []\n",
    "\n",
    "for i in range(0, totalno):\n",
    "        newsJSON.append({\n",
    "            \"date\": articles_details[i]['publishedAt'],\n",
    "            \"title\": articles_details[i]['title'],\n",
    "            \"full article\": articles_details[i]['content'],\n",
    "            \"author\": articles_details[i]['author']\n",
    "        })\n",
    "        \n",
    "newsJSON"
   ]
  },
  {
   "cell_type": "code",
   "execution_count": 60,
   "metadata": {},
   "outputs": [],
   "source": [
    "import json\n",
    "\n",
    "with open('NewsSites.json', 'w') as outfile:\n",
    "    json.dump(newsJSON, outfile)"
   ]
  }
 ],
 "metadata": {
  "kernelspec": {
   "display_name": "Python 3",
   "language": "python",
   "name": "python3"
  },
  "language_info": {
   "codemirror_mode": {
    "name": "ipython",
    "version": 3
   },
   "file_extension": ".py",
   "mimetype": "text/x-python",
   "name": "python",
   "nbconvert_exporter": "python",
   "pygments_lexer": "ipython3",
   "version": "3.8.3"
  }
 },
 "nbformat": 4,
 "nbformat_minor": 4
}
